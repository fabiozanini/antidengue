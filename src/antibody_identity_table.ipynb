{
 "cells": [
  {
   "cell_type": "code",
   "execution_count": 2,
   "metadata": {
    "collapsed": true
   },
   "outputs": [],
   "source": [
    "%matplotlib inline\n",
    "from Bio import SeqIO    \n",
    "import numpy as np\n",
    "import pandas as pd    \n",
    "import matplotlib.pyplot as plt\n",
    "import os\n",
    "import sys\n"
   ]
  },
  {
   "cell_type": "code",
   "execution_count": 3,
   "metadata": {
    "collapsed": true
   },
   "outputs": [],
   "source": [
    "def read_parsed_igblast_file(filename):\n",
    "    '''Takes in a parsed IgBlastn file and returns a pandas Dataframe\n",
    "    \n",
    "    Parameters:\n",
    "        filename - the name of the .txt file returned from the parse_igblast.py code.\n",
    "    '''\n",
    "    \n",
    "    antibodies = pd.DataFrame(columns=['V_gene', 'J_gene', 'CDR3_seq', 'CD3_AA', 'CDR3_len'])\n",
    "    \n",
    "    with open(filename, 'r') as f:\n",
    "        for line in f:\n",
    "            label, row = parse_line(line)\n",
    "            antibodies.loc[label] = row\n",
    "            \n",
    "    return antibodies\n",
    "            "
   ]
  },
  {
   "cell_type": "code",
   "execution_count": 4,
   "metadata": {
    "collapsed": true
   },
   "outputs": [],
   "source": [
    "def parse_line(line):\n",
    "    '''Takes a line from the parsed IgBlastn file and returns an ID string and an array \n",
    "    containing V gene, J gene, and CDR3 sequence, and CDR3 length.\n",
    "    \n",
    "    Parameters:\n",
    "        line - the line being read from the txt file containing parsed antibody information.\n",
    "    '''\n",
    "    \n",
    "    split_line = line.split()\n",
    "    label = ''\n",
    "    row = [None] * 5\n",
    "\n",
    "    label = split_line[0]\n",
    "    row[0] = split_line[2]\n",
    "    row[1] = split_line[4]\n",
    "    row[2] = split_line[9] + 'C'\n",
    "    row[3] = translate(row[2])\n",
    "    row[4] = len(row[3])\n",
    "    \n",
    "    return label, row"
   ]
  },
  {
   "cell_type": "code",
   "execution_count": 5,
   "metadata": {
    "collapsed": true
   },
   "outputs": [],
   "source": [
    "def translate(seq):\n",
    "    '''Translates a nucleotide string to an AA string.\n",
    "    \n",
    "    Parameters:\n",
    "        seq - the nucleotide string to be translated.\n",
    "    '''\n",
    "    \n",
    "    codon_table = {\n",
    "    'ATA':'I', 'ATC':'I', 'ATT':'I', 'ATG':'M',\n",
    "    'ACA':'T', 'ACC':'T', 'ACG':'T', 'ACT':'T',\n",
    "    'AAC':'N', 'AAT':'N', 'AAA':'K', 'AAG':'K',\n",
    "    'AGC':'S', 'AGT':'S', 'AGA':'R', 'AGG':'R',\n",
    "    'CTA':'L', 'CTC':'L', 'CTG':'L', 'CTT':'L',\n",
    "    'CCA':'P', 'CCC':'P', 'CCG':'P', 'CCT':'P',\n",
    "    'CAC':'H', 'CAT':'H', 'CAA':'Q', 'CAG':'Q',\n",
    "    'CGA':'R', 'CGC':'R', 'CGG':'R', 'CGT':'R',\n",
    "    'GTA':'V', 'GTC':'V', 'GTG':'V', 'GTT':'V',\n",
    "    'GCA':'A', 'GCC':'A', 'GCG':'A', 'GCT':'A',\n",
    "    'GAC':'D', 'GAT':'D', 'GAA':'E', 'GAG':'E',\n",
    "    'GGA':'G', 'GGC':'G', 'GGG':'G', 'GGT':'G',\n",
    "    'TCA':'S', 'TCC':'S', 'TCG':'S', 'TCT':'S',\n",
    "    'TTC':'F', 'TTT':'F', 'TTA':'L', 'TTG':'L',\n",
    "    'TAC':'Y', 'TAT':'Y', 'TAA':'_', 'TAG':'_',\n",
    "    'TGC':'C', 'TGT':'C', 'TGA':'_', 'TGG':'W',\n",
    "    }\n",
    "    \n",
    "    AA = ''\n",
    "    for i in range(0,len(seq),3):\n",
    "        if seq[i:i+3] in codon_table:\n",
    "            AA += codon_table[seq[i:i+3]]\n",
    "    return AA"
   ]
  },
  {
   "cell_type": "code",
   "execution_count": 44,
   "metadata": {
    "collapsed": true
   },
   "outputs": [],
   "source": [
    "SRR2150229_new = read_parsed_igblast_file('parsed_igblast.txt')"
   ]
  },
  {
   "cell_type": "code",
   "execution_count": 10,
   "metadata": {
    "collapsed": false
   },
   "outputs": [],
   "source": [
    "def count_improper_CDR3s (dataframe):\n",
    "    '''Takes in a datframe from read_parsed_igblast_file and counts CDR3s that have a \n",
    "    stop codon, are shorter than 6 AAs or are longer than 25 AAs.\n",
    "    Prints the results.'''\n",
    "    count = 0\n",
    "    for i,row in enumerate(dataframe.iterrows()):\n",
    "        if '_' in datframe.iloc[i][3] or 6 < len(dataframe.iloc[i][3]) < 25:\n",
    "            count += 1\n",
    "\n",
    "    print (\"Improper CDR3s: \", count)\n",
    "    print (\"Total CDR3s: \", len(SRR2150229_new.index))"
   ]
  },
  {
   "cell_type": "code",
   "execution_count": 11,
   "metadata": {
    "collapsed": false
   },
   "outputs": [],
   "source": [
    "def check_clonality(patient):\n",
    "    '''Counts the number of CDR3s that are found in at least two sequences.\n",
    "    '''\n",
    "    CDR3s = {}\n",
    "    for i,row in enumerate(patient.iterrows()):\n",
    "        key = patient.iloc[i][3]\n",
    "        if key in CDR3s:\n",
    "            CDR3s[key] += 1\n",
    "        else:\n",
    "            CDR3s[key] = 1\n",
    "    \n",
    "    for key in CDR3s:\n",
    "        if CDR3s[key] > 1:\n",
    "            print (key, \" \", CDR3s[key])\n",
    "    return CDR3s"
   ]
  },
  {
   "cell_type": "code",
   "execution_count": null,
   "metadata": {
    "collapsed": true
   },
   "outputs": [],
   "source": []
  }
 ],
 "metadata": {
  "kernelspec": {
   "display_name": "Python 3",
   "language": "python",
   "name": "python3"
  },
  "language_info": {
   "codemirror_mode": {
    "name": "ipython",
    "version": 3
   },
   "file_extension": ".py",
   "mimetype": "text/x-python",
   "name": "python",
   "nbconvert_exporter": "python",
   "pygments_lexer": "ipython3",
   "version": "3.5.1"
  }
 },
 "nbformat": 4,
 "nbformat_minor": 0
}
